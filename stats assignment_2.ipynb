{
 "cells": [
  {
   "cell_type": "code",
   "execution_count": 1,
   "metadata": {},
   "outputs": [],
   "source": [
    "# for null hypothesis ,we should include        =, < = ,> =\n",
    "\n",
    "# for alternate hypothesis ,we should include    =! , > , <\n"
   ]
  },
  {
   "cell_type": "code",
   "execution_count": 2,
   "metadata": {},
   "outputs": [],
   "source": [
    "##  The above conditions  (or) rules are must valid to state any hypothesis"
   ]
  },
  {
   "cell_type": "markdown",
   "metadata": {},
   "source": [
    "### Problem Statement 1 :-\n",
    "\n",
    "\n",
    "####  In each of the following situations, state whether it is a correctly stated hypothesistesting problem and why?\n",
    "\n",
    "1. 𝐻0: 𝜇 = 25, 𝐻1: 𝜇 ≠ 25  -------->  Correctly stated hypothesis ----->Yes, because values in both  statements are about population or distribution, have equal values and has inequality in ull hypothesis.\n",
    "\n",
    "   * it is two tailed test where at mean =25 it will be true and  mean greater and smaller than 25 will reject the null        hypothesis and will give alternate hypothesis\n",
    "\n",
    "2. 𝐻0: 𝜎 > 10, 𝐻1: 𝜎 = 10--------> Wrong------> All the values below are 10 will be null hypothesis\n",
    "\n",
    "   * No, because null hypothesis has an eqaulity claim and alternate hypothesis has inequality.\n",
    "\n",
    "3. 𝐻0: 𝑥 = 50, 𝐻1: 𝑥 ≠ 50---------> wrong ------>Because hypothesis is stated in terms of statistics and not sample data\n",
    "\n",
    "\n",
    "4. 𝐻0: 𝑝 = 0.1, 𝐻1: 𝑝 = 0.5-------> Wrong ,correct explanation should be p!=0.1, because values in both hypothesis is different \n",
    "and has equal sign.\n",
    "\n",
    "\n",
    "5. 𝐻0: 𝑠 = 30, 𝐻1: 𝑠 > 30----------> Wrong It would have been one tail test if  s<=30."
   ]
  },
  {
   "cell_type": "code",
   "execution_count": null,
   "metadata": {},
   "outputs": [],
   "source": []
  },
  {
   "cell_type": "markdown",
   "metadata": {},
   "source": [
    "####  Problem Statement 2 :- \n",
    "\n",
    "The college bookstore tells prospective students that the average cost of its textbooks is Rs. 52 with a standard deviation of Rs. 4.50. A group of smart statistics students thinks that the average cost is higher. To test the bookstore’s claim against their alternative, the students will select a random sample of size 100. Assume that the mean from their random sample is Rs. 52.80. Perform a hypothesis test at the5% level of significance and state your decision.\n",
    "\n",
    "**solution** :- \n",
    "\n",
    "\n",
    "$\\mu$=52  <br>\n",
    "$\\sigma$=4.50  <br>\n",
    "n=100     <br>\n",
    "$\\bar x$=52.80   <br>\n",
    "$\\alpha$=0.05    <br>\n",
    "$H_{0}$= average cost is <= 52 <br>\n",
    "$H_{1}$=average cost > 52 <br> \n",
    "\n",
    "### hence by this it is clear that we have to conduct right tail test\n",
    "\n",
    "##### ***Calculations***  :-\n",
    "\n",
    "standard error = $\\frac {\\sigma}{\\sqrt n}$\n",
    "\n",
    "=> S.E = $\\frac{4.50}{\\sqrt 100}$ =0.45 <br>\n",
    "\n",
    "z-test= $\\frac {\\bar x - \\mu} {S.E}$   <br>\n",
    "\n",
    "z-test=$\\frac {52.80-52 } {0.45}$ = 1.77 <br>\n",
    "\n",
    "##### Now we have given 0.05 level of significance so\n",
    "\n",
    "z(0.05)= 1.64\n",
    "\n",
    "As z(0.05) lies under z-test hence it will accept null hypothesis. <br>\n",
    "\n",
    "**conclusion** :-\n",
    "\n",
    "The Average price of book will be less than and equal to  52 rupees\n",
    "\n"
   ]
  },
  {
   "cell_type": "code",
   "execution_count": 3,
   "metadata": {},
   "outputs": [
    {
     "name": "stdout",
     "output_type": "stream",
     "text": [
      "Z score is:1.7777777777777715\n",
      "Critical region is -1.9599639845400545, 1.9599639845400545\n"
     ]
    }
   ],
   "source": [
    "from scipy.stats import norm\n",
    "import numpy as np\n",
    "import math\n",
    "import scipy.stats as stats\n",
    "from scipy.stats import chi2_contingency\n",
    "\n",
    "p_mean = 52\n",
    "p_std = 4.50\n",
    "n = 100\n",
    "sample_mean = 52.80\n",
    "\n",
    "SE = p_std/n**0.5\n",
    "Z = (sample_mean-p_mean)/SE\n",
    "print(f\"Z score is:{Z}\")\n",
    "alpha=0.05  #test_significance\n",
    "print(f\"Critical region is {norm.ppf(alpha/2)}, {-norm.ppf(alpha/2)}\")"
   ]
  },
  {
   "cell_type": "markdown",
   "metadata": {},
   "source": [
    "##### * From above we can conclude we can accept null hypothesis since z_score<critical region"
   ]
  },
  {
   "cell_type": "markdown",
   "metadata": {},
   "source": [
    "### Problem Statement 3: \n",
    "\n",
    "### A certain chemical pollutant in the Genesee River has been constant for several years with mean μ = 34 ppm (parts per million) and standard deviation σ = 8 ppm. A group of factory representatives whose companies discharge liquids into the river is now claiming that they have lowered the average with improved filtration devices. A group of environmentalists will test to see if this is true at the 1% level of significance. Assume \\ that their sample of size 50 gives a mean of 32.5 ppm.Perform a hypothesis test at the 1% level of significance and state your decision.\n",
    "\n",
    "**solution** :- \n",
    " \n",
    "$\\mu$ = 34 <br>\n",
    "$\\sigma $=8 <br>\n",
    "$\\alpha $ = 0.01 <br>\n",
    "n=50 <br>\n",
    "$\\bar x$ =32.5 <br>\n",
    "\n",
    "$H_{0}$= $\\mu $ <= 34 <br>\n",
    "$H_{1}$= $\\mu$ > 34 <br>\n",
    "\n",
    "S.E = $\\frac {8} {\\sqrt 50}$ = 1.131 <br>\n",
    "z-test = $\\frac {32.5-34} {1.131} $ = -1.326 <br>\n",
    "\n",
    "now we will find; <br>\n",
    "z(0.01)=-2.3-0.03=-2.33 <br>\n",
    "\n",
    "Now we will observe by comparing; <br>\n",
    "\n",
    "z-test > z(0.01) i.e:- z-test lies within critical value hence it will accept null hypothesis <br>\n",
    "conclusion:- factory discharge pollutant with $ \\mu $ < 34"
   ]
  },
  {
   "cell_type": "code",
   "execution_count": 4,
   "metadata": {},
   "outputs": [
    {
     "name": "stdout",
     "output_type": "stream",
     "text": [
      "Z score is:-1.3258252147247767\n",
      "Critical region is -2.575829303548901, 2.575829303548901\n"
     ]
    }
   ],
   "source": [
    "p_mean = 34\n",
    "p_std = 8\n",
    "n = 50\n",
    "sample_mean = 32.5\n",
    "\n",
    "SE = p_std/n**0.5   #standard Error\n",
    "Z = (sample_mean-p_mean)/SE\n",
    "print(f\"Z score is:{Z}\")\n",
    "alpha=0.01\n",
    "print(f\"Critical region is {norm.ppf(alpha/2)}, {-norm.ppf(alpha/2)}\")"
   ]
  },
  {
   "cell_type": "markdown",
   "metadata": {},
   "source": [
    "##### * From above we can conclude we can accept null hypothesis since critical_region<Z_score"
   ]
  },
  {
   "cell_type": "markdown",
   "metadata": {},
   "source": [
    "### Problem Statement 4:\n",
    "\n",
    "### Based on population figures and other general information on the U.S. population,suppose it has been estimated that, on average, a family of four in the U.S. spendsabout 1135(dollar) annually on dental expenditures. Suppose further that a regional dental association wants to test to determine if this figure is accurate for their area of country. To test this, 22 families of 4 are randomly selected from the population in that area of the country and a log is kept of the family’s dental expenditure for oneyear. The resulting data are given below. Assuming, that dental expenditure is normally distributed in the population, use the data and an alpha of 0.5 to test the dental association’s hypothesis. 1008, 812, 1117, 1323, 1308, 1415, 831, 1021, 1287, 851, 930, 730, 699,872, 913, 944, 954, 987, 1695, 995, 1003, 994.\n",
    "\n",
    "\n",
    "**solution** :- <br>\n",
    "\n",
    " here we have  <br>\n",
    "\n",
    "$\\mu $ = 1135    <br>\n",
    "n= 22  <br>\n",
    "$\\bar X $ = 1031.31 <br>\n",
    "S = 240.37    <br>\n",
    "\n",
    "$ H_{0} $ =$\\mu $ = 1135    <br>\n",
    "\n",
    "$ H_{1} $ =$\\mu $ != 1135  <br>\n",
    "\n",
    "#### not equal means it may be  <  or  >  so that it represents  two tailed test\n",
    "\n",
    "Clearly it will fall under two tail test <br>\n",
    "\n",
    "\n",
    "$ t_{test} $ = $ \\frac {(\\bar X  - \\mu)} {\\frac {S} {\\sqrt (n)} } $  <br>\n",
    "\n",
    "\n",
    "$ t_{test} $ = $ \\frac {(1031  - 1135 )} {\\frac {240.37} {\\sqrt (22)} } $ = -2.02 <br>\n",
    "\n",
    " \n",
    "Now we will take confidence level as 95% then at two tail test we will find\n",
    "\n",
    "\n",
    "$t_{0.05}$ at a degree of freedom = (22-1) = 21 will be  = 2.08 <br>\n",
    "\n",
    "-2.10 < -2.02 < 2.10 ($ t_{test} $ falls under Given   region   Accept  null hypothesis) \n",
    "\n"
   ]
  },
  {
   "cell_type": "code",
   "execution_count": 5,
   "metadata": {},
   "outputs": [
    {
     "name": "stdout",
     "output_type": "stream",
     "text": [
      "t_Score is-2.070747228595759\n",
      "Critical Region is -0.6863519891164291 0.6863519891164291\n"
     ]
    }
   ],
   "source": [
    "given_data=[1008, 812, 1117, 1323, 1308, 1415, 831, 1021, 1287, 851, 930, 730, 699, 872, 913, 944, 954, 987, 1695, 995, 1003, 994]\n",
    "p_mean =1135\n",
    "sample_std = np.std(given_data)\n",
    "n=22\n",
    "sample_mean = np.sum(given_data,axis=0)/len(given_data)\n",
    "SE = sample_std/n**0.5\n",
    "alpha = 0.5\n",
    "test_1 = (sample_mean-p_mean)/SE\n",
    "print(f\"t_Score is{test_1}\")\n",
    "print(f\"Critical Region is {stats.t.ppf((alpha/2),df=21)} {stats.t.ppf(1-(alpha/2),df=21)}\")"
   ]
  },
  {
   "cell_type": "markdown",
   "metadata": {},
   "source": [
    "##### * We reject null hypothesis alpha=0.5 since it lies within critical region"
   ]
  },
  {
   "cell_type": "markdown",
   "metadata": {},
   "source": [
    "### Problem Statement 5 :-\n",
    "\n",
    "### In a report prepared by the Economic Research Department of a major bank the Department manager maintains that the average annual family income on Metropolis is 48,432(Dollar). What do you conclude about the validity of the report if a random sample of 400 families shows and average income of 48,574(Dollar) with a standard deviation of 2000?\n",
    "\n",
    "\n",
    "**solution**:- <br>\n",
    "\n",
    " here we have  <br>\n",
    " \n",
    "$\\mu $ = 48432     <br>\n",
    "n= 400    <br>\n",
    "$\\bar X $ = 48574  <br>\n",
    "S = 2000     <br>\n",
    "$ H_{0} $ =$\\mu $ = 48432     <br>\n",
    "\n",
    "$ H_{1} $ =$\\mu $ != 48432  <br>\n",
    "Clearly it will fall under two tail test <br>\n",
    "A number of sample is greater than 30 hence we will use z-statistics   <br>\n",
    "$ Z_{test} $ = $ \\frac {(\\bar X  - \\mu)} {\\frac {S} {\\sqrt (n)} } $  <br>\n",
    "\n",
    "$ Z_{test} $ = $ \\frac {(48574  - 48432 )} {\\frac {2000} {\\sqrt (400)} } $ = 1.42 <br>\n",
    " \n",
    "Now we will take confidence level as 95% then at two tail test we will find $Z_{\\frac {\\alpha}{2}}$   : ,br>\n",
    "\n",
    "$Z_{0.025}$ = -1.96 <br>\n",
    "-1.96 < 1.42 < 1.96    ($ Z_{test} $ falls under given region  Accept null hypothesis) \n"
   ]
  },
  {
   "cell_type": "code",
   "execution_count": 6,
   "metadata": {},
   "outputs": [
    {
     "name": "stdout",
     "output_type": "stream",
     "text": [
      "Critical region is -1.9599639845400545 1.9599639845400545\n"
     ]
    }
   ],
   "source": [
    "p_mean = 48432\n",
    "p_std = 2000\n",
    "n =400\n",
    "sample_mean =48574\n",
    "\n",
    "SE = p_std/n**0.5\n",
    "Z = (sample_mean-p_mean)/SE\n",
    "alpha=0.05\n",
    "print(f\"Critical region is {norm.ppf(alpha/2)} {-norm.ppf(alpha/2)}\")"
   ]
  },
  {
   "cell_type": "markdown",
   "metadata": {},
   "source": [
    "##### *We accept null hypothesis at alpha=0.05 since z_score<critical_region"
   ]
  },
  {
   "cell_type": "markdown",
   "metadata": {},
   "source": [
    "### Problem Statement 6 :-\n",
    "\n",
    "### Suppose that in past years the average price per square foot for warehouses in theUnited States has been 32.28(dollar). A national real estate investor wants to determine whether that figure has changed now. The investor hires a researcher who randomly samples 19 warehouses that are for sale across the United States and finds that the mean price per square foot is 31.67(dollar), with a standard deviation of 1.29(dollar). assume that the prices of warehouse footage are normally distributed in population. If the researcher uses a 5% level of significance, what statistical conclusion can be reached? What are the hypothesis?\n",
    "\n",
    "**solution** :- <br>\n",
    "\n",
    " here we have  <br>\n",
    "$\\mu $ = 32.28     <br>\n",
    "n= 19    <br>\n",
    "$\\bar X $ = 31.67  <br>\n",
    "S = 1.29     <br>\n",
    "$ H_{0} $ =$\\mu $ = 32.28    <br>\n",
    "\n",
    "$ H_{1} $ =$\\mu $ != 32.28  <br>\n",
    "Clearly it will fall under two tail test <br>\n",
    "\n",
    "$ t_{test} $ = $ \\frac {(\\bar X  - \\mu)} {\\frac {S} {\\sqrt (n)} } $  <br>\n",
    "\n",
    "$ t_{test} $ = $ \\frac {(31.67  - 32.28 )} {\\frac {1.29} {\\sqrt (19)} } $ = -2.10 <br>\n",
    " \n",
    "Now we will take confidence level as 95% then at two tail test we will find $t_{\\frac {\\alpha}{2}}$   : ,br>\n",
    "\n",
    "$t_{0.025}$ at a degree of freedom = (19-1) = 18 will be  = 2.10 <br>\n",
    " ($ t_{test} $ falls under rejection  region  Reject  null hypothesis) \n"
   ]
  },
  {
   "cell_type": "code",
   "execution_count": 7,
   "metadata": {},
   "outputs": [
    {
     "name": "stdout",
     "output_type": "stream",
     "text": [
      "t_score is -2.1\n",
      "Critical region is -2.1 2.1\n"
     ]
    }
   ],
   "source": [
    "p_mean =32.28\n",
    "n=19\n",
    "sample_mean =31.67\n",
    "sample_std =1.29\n",
    "alpha =0.05\n",
    "\n",
    "SE=sample_std/(n**0.5)\n",
    "t=(sample_mean-p_mean)/SE\n",
    "print(f\"t_score is {round((t),1)}\")\n",
    "print(f\"Critical region is {round(stats.t.ppf((alpha/2),df=18),1)} {-round(stats.t.ppf((alpha/2),df=18),1)}\")"
   ]
  },
  {
   "cell_type": "markdown",
   "metadata": {},
   "source": [
    "##### *we can reject null hypothesis at alpha=0.05 since it lies within critical region"
   ]
  },
  {
   "cell_type": "markdown",
   "metadata": {},
   "source": [
    "### Problem Statement 7 :-\n",
    "\n",
    "#### Fill in the blank spaces in the table and draw your conclusions from it.\n",
    "\n",
    "\n",
    "|Acceptance Region       |Sample Size| $\\alpha $|$\\beta at\\mu=52 $|$\\beta at\\mu=50.5 $|\n",
    "|------------------------|:---------:|:--------:|:---------------:|:------------------|\n",
    "|48.5<=$\\bar X $ <=51.5  |     10    | 0.057    |    0.26         |      0.89         |\n",
    "|48 <=$\\bar X $ <=52     |     10    | 0.011    |    0.50         |      0.97         |\n",
    "|48.81<=$\\bar X $ <=51.9 |     16    | 0.057    |    0.09         |      0.86         |\n",
    "|48.42<$\\bar X $ <=51.52 |     16    | 0.011    |    0.25         |      0.95         |\n"
   ]
  },
  {
   "cell_type": "code",
   "execution_count": null,
   "metadata": {},
   "outputs": [],
   "source": []
  },
  {
   "cell_type": "markdown",
   "metadata": {},
   "source": [
    "### Problem Statement 8 :-\n",
    "\n",
    "Find the t-score for a sample size of 16 taken from a population with mean 10 when the sample mean is 12 and the sample standard deviation is 1.5\n",
    "\n",
    "**Solution** :-\n",
    "\n",
    "\n",
    "n= 16 <br>\n",
    "$\\bar x$ = 12 <br>\n",
    "$\\mu $ = 10 <br>\n",
    "$\\sigma $ = 1.5 <br>\n",
    "$H_{0} $ = $\\mu $ =10 <br>\n",
    "$H_{1} $ =  $\\mu $ !=10 <br>\n",
    "S.E=$\\frac {\\sigma} {\\sqrt n} $ = $\\frac {1.5} {\\sqrt 4} $ = 0.75 <br>\n",
    "t-test=$\\frac {12- 10} {0.75} $ = 2.666 <br>\n",
    "As level of significance is not given so i will take it as 0.01 then ; <br>\n",
    "According to above hypothesis we are able to recall it as two tail test hece <be>\n",
    "    $\\frac {\\alpha} {2} $ =  $\\frac {0.01} {2} $ = 0.005 <br>\n",
    "    t(0.005)=2.947\n",
    "    now; <br>\n",
    "         -2.947 < 2.666 < 2.947  <br>\n",
    "    \n",
    "**Result** :- Hence, we accepted null hypothesis that is  $\\mu $ =10\n",
    "    \n",
    "\n"
   ]
  },
  {
   "cell_type": "code",
   "execution_count": 8,
   "metadata": {},
   "outputs": [
    {
     "name": "stdout",
     "output_type": "stream",
     "text": [
      "t_score is 5.3\n"
     ]
    }
   ],
   "source": [
    "#t_score = ?\n",
    "n = 16\n",
    "p_mean = 10\n",
    "sample_mean =12\n",
    "sample_std =1.5\n",
    "\n",
    "SE = sample_std/(n**0.5)\n",
    "t = (sample_mean-p_mean)/SE\n",
    "print(f\"t_score is {round((t),1)}\")"
   ]
  },
  {
   "cell_type": "markdown",
   "metadata": {},
   "source": [
    "#### Problem Statement 9 :-\n",
    "\n",
    "Find the t-score below which we can expect 99% of sample means will fall if samplesof size 16 are taken from a normally distributed population.\n",
    "\n",
    "**solution** :-\n",
    "\n",
    "df=(16-1)= 15  <br>\n",
    "99 % of sample means obviously it does not imply confidence interval of 99 % \n",
    "\n",
    "hence conlusion is we have to find $ t_ {99}$ and the value of $ t_99 $ is similar to $-t_{0.01}  $   <br>\n",
    "\n",
    "Therefore t-score is <br>\n",
    "\n",
    "$-t_{0.01}$ at df=15 will be = -2.602 \n"
   ]
  },
  {
   "cell_type": "code",
   "execution_count": 9,
   "metadata": {},
   "outputs": [
    {
     "name": "stdout",
     "output_type": "stream",
     "text": [
      "t_score is 2.946712883338615\n"
     ]
    }
   ],
   "source": [
    "n= 16\n",
    "alpha=(1-0.99)/2\n",
    "print(f\"t_score is {stats.t.ppf(1-alpha,df=15)}\")"
   ]
  },
  {
   "cell_type": "code",
   "execution_count": null,
   "metadata": {},
   "outputs": [],
   "source": []
  },
  {
   "cell_type": "markdown",
   "metadata": {},
   "source": [
    "#### Problem Statement 10:\n",
    "\n",
    "If a random sample of size 25 drawn from a normal population gives a mean of 60 and a standard deviation of 4, find the range of t-scores where we can expect to find the middle 95% of all sample means. Compute the probability that (−𝑡0.05 <𝑡<𝑡0.10).\n",
    "\n",
    "we have ;   <br>\n",
    "n=25  <br>\n",
    "$\\mu $ = 60  <br>\n",
    "$\\sigma $ = 4\n",
    "Range of value at 95% we nee to find confidence interval  <br>\n",
    "\n",
    "\n",
    "C.I = $\\mu $ +$t_{0.05}_at_df=24 $ ($\\frac {\\sigma} {\\sqrt n} $) <br>\n",
    "\n",
    "C.I= 60 $\\displaystyle\\pm $ 1.711*($\\frac {4} {\\sqrt 5}) $    <br>\n",
    "\n",
    "C.I = {-58.4 , 61.53 }   <br>\n",
    "\n"
   ]
  },
  {
   "cell_type": "code",
   "execution_count": 10,
   "metadata": {},
   "outputs": [
    {
     "name": "stdout",
     "output_type": "stream",
     "text": [
      "Range is : 61.651118849302414 58.348881150697586\n"
     ]
    }
   ],
   "source": [
    "n=25\n",
    "std=4\n",
    "mean=60\n",
    "alpha=(1-0.95)/2\n",
    "t_score=stats.t.ppf(1-alpha,df=24)\n",
    "print(f\"Range is : {mean+t_score*(std/(n**0.5))} {mean-t_score*(std/(n**0.5))}\")"
   ]
  },
  {
   "cell_type": "code",
   "execution_count": 11,
   "metadata": {},
   "outputs": [
    {
     "name": "stdout",
     "output_type": "stream",
     "text": [
      "probability that (−𝑡0.05 <𝑡<𝑡0.10) is 0.05914441613731247\n"
     ]
    }
   ],
   "source": [
    "p=stats.t.cdf(0.1,df=24)-stats.t.cdf(-0.05,df=24)\n",
    "print(f\"probability that (−𝑡0.05 <𝑡<𝑡0.10) is {p}\")"
   ]
  },
  {
   "cell_type": "markdown",
   "metadata": {},
   "source": [
    "#### Problem Statement 11 :-  \n",
    "\n",
    "Two-tailed test for difference between two population means Is there evidence to conclude that the number of people travelling from Bangalore to Chennai is different from the number of people travelling from Bangalore to Hosur in a week, given the following  \n",
    "\n",
    "Population 1: Bangalore to Chennai n1 = 1200, x1 = 452 ,s1 = 212 \n",
    "\n",
    "Population 2: Bangalore to Hosur n2 =800 ,x2 = 523 ,s2 = 185.\n",
    "\n",
    "we have;   <br>\n",
    "Because n>30 in both the cases  hence we will apply z-test <br>\n",
    "n1= 1200 <br>\n",
    "$\\bar x_{1} $ =452 <br>\n",
    "$\\sigma_{1}$=212  <br>\n",
    "n2=800     <br>\n",
    "$\\bar x_{2} $ = 523    <br>\n",
    "$\\sigma_{2}$=185       <br>\n",
    "standard error= $\\sqrt (\\frac {\\sigma_{1}^2} {n_{1}}) + (\\frac {\\sigma_{2}^2} {n_{1}}) $   <br>\n",
    "\n",
    "S.E=$\\sqrt (\\frac {(212)^2} {1200}+ \\frac {(185)^2} {800} ) $ = 8.96 <br>\n",
    "\n",
    "z-test=$\\frac {(\\bar x_{1}-\\bar x_{2})} {S.E} $ <br>\n",
    " \n",
    "z-test=$\\frac  {(452-523)}{8.96}$ = -7.926 .................(1)  <br>\n",
    "According to question test is two tail hance $\\frac {\\alpha} {2} $ will be taken under consideration where $\\alpha $ =0.05 <br>\n",
    "=> $\\frac {\\alpha} {2} $ =0.025 <br>\n",
    "\n",
    "$ z_{0.025} $ = -2.81   <br>\n",
    "\n",
    "AS z-test < $ z_{0.025} $ <br>\n",
    "\n",
    "$H_{0} $ will be rejected\n",
    "\n",
    "**Result** :- Hence we rejected the Hypothesis"
   ]
  },
  {
   "cell_type": "code",
   "execution_count": 12,
   "metadata": {},
   "outputs": [
    {
     "name": "stdout",
     "output_type": "stream",
     "text": [
      "Z_Score is -7.926428526759299\n",
      "Critical region is -1.9599639845400545 1.9599639845400545\n"
     ]
    }
   ],
   "source": [
    "n1 = 1200 \n",
    "x1 = 452\n",
    "s1 = 212\n",
    "n2 = 800\n",
    "x2 = 523\n",
    "s2 = 185\n",
    "s_1=s1**2\n",
    "s_2=s2**2\n",
    "alpha=0.05\n",
    "se=((s_1/n1)+(s_2/n2))**0.5\n",
    "z_score=(x1-x2)/se\n",
    "print(f\"Z_Score is {z_score}\")\n",
    "print(f\"Critical region is {norm.ppf(alpha/2)} {-norm.ppf(alpha/2)}\")"
   ]
  },
  {
   "cell_type": "markdown",
   "metadata": {},
   "source": [
    "#####  Hence , we rejected null hypothesis ,becauseit lies within critical region at alpha=5%.So,number of people travelling from Bangalore to Chennai is different from the number of people travelling from Bangalore to Hosur in a week"
   ]
  },
  {
   "cell_type": "markdown",
   "metadata": {},
   "source": [
    "#### Problem Statement 12 :-  \n",
    "\n",
    "Is there evidence to conclude that the number of people preferring Duracell battery is different from the number of people preferring Energizer battery, given the following: \n",
    "\n",
    "Population 1: Duracell n1 = 100 , x1 = 308 ,s1 = 84 \n",
    "\n",
    "Population 2: Energizer n2 = 100,x2 = 254, s2 = 67\n",
    "\n",
    "**solution* :-\n",
    "\n",
    "we have;   <br>\n",
    "\n",
    "Because n>30 in both the cases  hence we will apply z-test <br>\n",
    "n1= 100 <br>\n",
    "$\\bar x_{1} $ =308 <br>\n",
    "$\\sigma_{1}$=84 <br>\n",
    "n2=100     <br>\n",
    "$\\bar x_{2} $ = 254    <br>\n",
    "$\\sigma_{2}$=67     <br>\n",
    "$ H_{0} $=Different people using different battery  <br>\n",
    "$ H_{1} $=same people using different battery <br>\n",
    "standard error= $\\sqrt (\\frac {\\sigma_{1}^2} {n_{1}}) + (\\frac {\\sigma_{2}^2} {n_{1}}) $   <br>\n",
    "\n",
    "\n",
    "S.E=$\\sqrt (\\frac {(84)^2} {100}+ \\frac {(67)^2} {100} ) $ = 10.74 <br>\n",
    "\n",
    "z-test=$\\frac {(\\bar x_{1}-\\bar x_{2})} {S.E} $ <br>\n",
    " \n",
    "z-test=$\\frac  {(308-254)}{10.74}$ =5.025 .................(1)  <br>\n",
    "$ z_{0.025} $ = -1.65   <br>\n",
    "\n",
    "AS z-test > $ z_{0.05} $ <br>\n",
    "\n",
    "$H_{0} $ will be Accepted\n",
    "\n",
    "\n",
    "**Result** :- Hence we acceped the null Hypothesis\n"
   ]
  },
  {
   "cell_type": "code",
   "execution_count": 13,
   "metadata": {},
   "outputs": [
    {
     "name": "stdout",
     "output_type": "stream",
     "text": [
      "Z_Score is 5.025702668336442\n",
      "Critical region is -1.9599639845400545 1.9599639845400545\n"
     ]
    }
   ],
   "source": [
    "n1 = 100\n",
    "x1 = 308\n",
    "s1 = 84\n",
    "n2 = 100\n",
    "x2 = 254\n",
    "s2 = 67\n",
    "s_1=s1**2\n",
    "s_2=s2**2\n",
    "alpha=0.05\n",
    "SE=((s_1/n1)+(s_2/n2))**0.5\n",
    "z_score=(x1-x2)/SE\n",
    "print(f\"Z_Score is {z_score}\")\n",
    "print(f\"Critical region is {norm.ppf(alpha/2)} {-norm.ppf(alpha/2)}\")"
   ]
  },
  {
   "cell_type": "markdown",
   "metadata": {},
   "source": [
    "##### *We reject null hypothesis since it lies within critical region at alpha=5%.So, number of people preferring Duracell battery is different from the number of people preferring Energizer battery"
   ]
  },
  {
   "cell_type": "markdown",
   "metadata": {},
   "source": [
    "#### Problem Statement 13 :-\n",
    "\n",
    "Pooled estimate of the population variance Does the data provide sufficient evidence to conclude that average percentage increase in the price of sugar differs when it is sold at two different prices?\n",
    "\n",
    "Population 1: Price of sugar = Rs. 27.50 n1 = 14 ,x1 = 0.317% ,s1 = 0.12%\n",
    "\n",
    "Population 2: Price of sugar = Rs. 20.00 n2 = 9,x2 = 0.21%,s2 = 0.11%\n",
    "\n",
    "solution:-\n",
    "\n",
    "we have;   <br>\n",
    "n1=14 <br>\n",
    "$\\bar x_{1} $ =0.317 <br>\n",
    "s1=0.12  <br>\n",
    "n2=9    <br>\n",
    "$\\bar x_{2} $ =0.21 <br>\n",
    "s2=0.11  <br>\n",
    "$H_{0} $ = price of sugar increase   <br>\n",
    "$H_{1} $ = price of sugar will not increase <br>\n",
    "$s_{12}$ =$\\sqrt \\frac {(n_{1}-1)s_{1}^2 +(n_{2}-1)s_{2}^2 } {n_{1}+n_{2}-2} $  <br>\n",
    "$s_{12} $ =$\\sqrt \\frac {(14-1)(0.12)^2+(9-1)(0.11)^2} {(14+9-2)} $    <br>\n",
    "S.E=$ s_{12} * (\\sqrt (1/n_{a})+(1/n_{b}))$   <br>\n",
    "=> S.E =0.049     <br>\n",
    "t-stats=$\\frac {|(\\bar x_{1}-\\bar x_{2})|} {S.E} $     <br>\n",
    "t-stats=$\\frac {(|0.317-0.210|)} {0.049} $ <br>\n",
    "t-stats= $\\frac {0.107}{0.049}$=2.183 ------>$ t_{experimental} $<br>\n",
    "By making calculation easy we will take refrence of 95% confidence which states that ;  <br>\n",
    "$t_{0.025} $ at degree of freedom=21 will be = 2.080----->$t_{theoretical} $  <br>\n",
    "$t_{experimental} > t_{0.025} $  <br>\n",
    "$H_{0} $ will reject null hypothesis doesnot lies under two tail test\n",
    "\n",
    "\n"
   ]
  },
  {
   "cell_type": "markdown",
   "metadata": {},
   "source": [
    "n1 = 14 \n",
    "x1 = 0.317\n",
    "s1 = 0.12 \n",
    "n2 = 9 \n",
    "x2 = 0.21 \n",
    "s2 = 0.11\n",
    "s_1=s1**2\n",
    "s_2=s2**2\n",
    "s=((n1-1)*s_1)+((n2-1)*s_2)\n",
    "n=(n1+n2-2)\n",
    "se=(s/n)**0.5\n",
    "n_1=((1/n1)+(1/n2))**0.5\n",
    "t_score=(x1-x2)/se*n_1\n",
    "\n",
    "print(f\"T_score is {t_score}\")\n",
    "print(f\"Critical Region is {stats.t.ppf(1-0.05,df=n)}\")\n"
   ]
  },
  {
   "cell_type": "code",
   "execution_count": 14,
   "metadata": {},
   "outputs": [
    {
     "name": "stdout",
     "output_type": "stream",
     "text": [
      "T_score is 0.3931089218182991\n",
      "Critical Region is 1.7207429028118775\n"
     ]
    }
   ],
   "source": [
    "n1 = 14 \n",
    "x1 = 0.317\n",
    "s1 = 0.12 \n",
    "n2 = 9 \n",
    "x2 = 0.21 \n",
    "s2 = 0.11\n",
    "s_1=s1**2\n",
    "s_2=s2**2\n",
    "s=((n1-1)*s_1)+((n2-1)*s_2)\n",
    "n=(n1+n2-2)\n",
    "se=(s/n)**0.5\n",
    "n_1=((1/n1)+(1/n2))**0.5\n",
    "t_score=(x1-x2)/se*n_1\n",
    "\n",
    "print(f\"T_score is {t_score}\")\n",
    "print(f\"Critical Region is {stats.t.ppf(1-0.05,df=n)}\")\n"
   ]
  },
  {
   "cell_type": "markdown",
   "metadata": {},
   "source": [
    "#### *We accept null hypothesis at alpha=5%.So,average price do not increase"
   ]
  },
  {
   "cell_type": "markdown",
   "metadata": {},
   "source": [
    "##### Problem Statement 14 :-\n",
    "\n",
    "The manufacturers of compact disk players want to test whether a small price reduction is enough to increase sales of their product. Is there evidence that the small price reduction is enough to increase sales of compact disk players ? \n",
    "\n",
    "Population 1: Before reduction n1 = 15 ,x1 = Rs. 6598 s1 = Rs. 844 \n",
    "\n",
    "Population 2: After reduction n2 = 12,x2 = RS. 6870,s2 = Rs. 669 .\n",
    "\n",
    "**solution**:-\n",
    "\n",
    "we have;   <br>\n",
    "n1=15  <br>\n",
    "$\\bar x_{1} $ =6598 <br>\n",
    "s1=844  <br>\n",
    "n2=12     <br>\n",
    "$\\bar x_{2} $ =6870 <br>\n",
    "s2=669  <br>\n",
    "$H_{0} $ = small price reduction is enough to increase sales <br>\n",
    "$H_{1} $ = small price reduction is NOT enough to increase sales <br>\n",
    "$s_{12}$ =$\\sqrt \\frac {(n_{1}-1)s_{1}^2 +(n_{2}-1)s_{2}^2 } {n_{1}+n_{2}-2} $  <br>\n",
    "$s_{12} $ =$\\sqrt \\frac {(15-1)(844)^2+(12-1)(669)^2} {(15+12-2)} $    <br>\n",
    "S.E=$ s_{12} * (\\sqrt (1/n_{a})+(1/n_{b}))$   <br>\n",
    "=> S.E = 289.96     <br>\n",
    "t-stats=$\\frac {|(\\bar x_{1}-\\bar x_{2})|} {S.E} $     <br>\n",
    "t-stats=$\\frac {(|6598-6870|)} {289.96} $ <br>\n",
    "t-stats= $\\frac {272}{289.96}$=0.91 ------>$ t_{experimental} $<br>\n",
    "By making calculation easy we will take refrence of 95% confidence which states that ;  <br>\n",
    "$t_{0.05} $ at degree of freedom =25 will be = 1.708----->$t_{theoretical} $  <br>\n",
    "$t_{experimental} < t_{0.05} $  <br>\n",
    "$H_{0} $ will be accepted\n",
    "\n",
    "**Result** :- Hence,we accepted null Hypothesis"
   ]
  },
  {
   "cell_type": "code",
   "execution_count": 15,
   "metadata": {},
   "outputs": [
    {
     "name": "stdout",
     "output_type": "stream",
     "text": [
      "T_score is -0.1364745051598569\n",
      "Critical Region is -1.708140761251899\n"
     ]
    }
   ],
   "source": [
    "n1 = 15 \n",
    "x1 = 6598 \n",
    "s1 = 844 \n",
    "n2 = 12 \n",
    "x2 = 6870 \n",
    "s2 = 669\n",
    "s_1=s1**2\n",
    "s_2=s2**2\n",
    "\n",
    "s=((n1-1)*s_1)+((n2-1)*s_2)\n",
    "n=(n1+n2-2)\n",
    "se=(s/n)**0.5\n",
    "n_1=((1/n1)+(1/n2))**0.5\n",
    "t_score=(x1-x2)/se*n_1\n",
    "\n",
    "print(f\"T_score is {t_score}\")\n",
    "print(f\"Critical Region is {stats.t.ppf(0.05,df=n)}\")"
   ]
  },
  {
   "cell_type": "markdown",
   "metadata": {},
   "source": [
    "#### *We accept null hypothesis at alpha=5%.So average price remains same"
   ]
  },
  {
   "cell_type": "markdown",
   "metadata": {},
   "source": [
    "### Problem Statement 15 :-\n",
    "\n",
    "Comparisons of two population proportions when the hypothesized difference is zero Carry out a two-tailed test of the equality of banks’ share of the car loan market in 1980 and 1995.\n",
    "\n",
    "Population 1: 1980 ,n1 = 100,x1 = 53,𝑝 1 = 0.53\n",
    "\n",
    "Population 2: 1985 , n2 = 100 ,x2 = 43,𝑝 2= 0.43\n",
    "\n",
    "\n",
    "**solution** :-\n",
    "\n",
    "we have;   <br>\n",
    "n1=1000 <br>\n",
    "$x_{1} $ =53 <br>\n",
    "$\\hat p_{1} $ = 0.53  <br>\n",
    "n2=100     <br>\n",
    "$x_{2} $ = 43 <br>\n",
    "$\\hat p_{2} $ = 0.53  <br>\n",
    "\n",
    "$H_{0} $= $\\hat p_{1} -\\hat p_{2} $ = 0   <br>\n",
    "\n",
    "$H_{1} $=$\\hat p_{1} -\\hat p_{2} $ !=0   <br>\n",
    "\n",
    "Here p----> Population Proportion    <br> \n",
    "\n",
    "$\\hat p $ = $\\frac { X_{1} + X_{2}} {n_{1}+n_{2}}  $  <br>\n",
    "\n",
    "\n",
    "$\\hat p $ = $\\frac {53 +43} {100+100}  $ =0.48 <br>\n",
    "\n",
    "z-test=$\\sqrt \\frac {(\\hat p_{1}-\\hat p_{2})} {(\\hat p)(1-\\hat p)((1/n1)+(1/n2))} $ <br>\n",
    "\n",
    "z-test=$\\sqrt \\frac {(0.53-0.43)} {(\\hat 0.48(1-0.48)((1/100)+(1/100))} $ = 1.415  <br>\n",
    "According to null hypothesis this is two tail test so if experimental values will be less than theoretical then it will accept null hypothesis      <br>\n",
    "\n",
    "At 90% significance level it will follow two tail testing $ z_{0.05} $=1.645    <br>    \n",
    "$z_{test}$ < $z_{0.05}$ <br>\n",
    " \n",
    "**Result** :- Hence, we accepted null hypothesis\n"
   ]
  },
  {
   "cell_type": "code",
   "execution_count": 16,
   "metadata": {},
   "outputs": [
    {
     "name": "stdout",
     "output_type": "stream",
     "text": [
      "Z_score is 0.0\n",
      "Critical region is -1.6448536269514729\n"
     ]
    }
   ],
   "source": [
    "n1 = 1000 \n",
    "x1 = 53 \n",
    "𝑝1 = 0.53 \n",
    "n2 = 100 \n",
    "x2 = 43 \n",
    "𝑝2= 0.53\n",
    "p=(x1+x2)/(n1+n2)\n",
    "\n",
    "n=(1/n1)+(1/n2)\n",
    "p_1=p*(1-p)\n",
    "Z=(p1-p2)/((p_1*n)**0.5)\n",
    "print(f\"Z_score is {Z}\")\n",
    "print(f\"Critical region is {norm.ppf(0.05)}\")"
   ]
  },
  {
   "cell_type": "markdown",
   "metadata": {},
   "source": [
    "#### *We can't reject null hypothesis at alpha=10%"
   ]
  },
  {
   "cell_type": "markdown",
   "metadata": {},
   "source": [
    "### Problem Statement 16 :- \n",
    "\n",
    "Carry out a one-tailed test to determine whether the population proportion of traveler’s check buyers who buy at least 2500(dollar) in checks when sweepstakes prizes are offered as at least 10% higher than the proportion of such buyers when no sweepstakes are on. \n",
    "\n",
    "Population 1: With sweepstakes , n1 = 300 , x1 = 120 , 𝑝 = 0.40 \n",
    "\n",
    "Population 2: No sweepstakes n2 = 700 , x2 = 140 , 𝑝 2= 0.20.\n",
    "\n",
    "**solution** :-\n",
    "\n",
    "One tailed test as    <br>\n",
    "$H_{0}$=$p_{1}-p_{2}$<= 0.10   <br>\n",
    "$H_{1}$=$p_{1}-p_{2}$> 0.10    <br>\n",
    "n1=300 <br>\n",
    "$x_{1} $ =120 <br>\n",
    "$\\hat p_{1} $ = 0.40  <br>\n",
    "n2=700     <br>\n",
    "$x_{2} $ = 140 <br>\n",
    "$\\hat p_{2} $ = 0.20  <br>\n",
    "$\\hat p $ = $\\frac { X_{1} + X_{2}} {n_{1}+n_{2}}  $  <br>\n",
    "\n",
    "\n",
    "$\\hat p $ = $\\frac {120 +140} {300+700}  $ =0.26 <br>\n",
    "\n",
    "\n",
    "\n",
    "z-test=$\\sqrt \\frac {(\\hat p_{1}-\\hat p_{2})-(p_{1}-p_{2})} {\\frac{(\\hat p_{1})(1-\\hat p_{1})}{n_{1}}+\\frac{(\\hat p_{2})(1-\\hat p_{2})}{n_{2}}} $ <br>\n",
    "\n",
    "\n",
    "z-test=$\\sqrt \\frac {(0.40-20)-(0.10)} {\\frac {(0.40)(1-0.40)}{300}+\\frac{(0.20)(1-0.20)}{700}} $ =  $\\frac {0.10} {0.0320}$ =     3.118 <br>\n",
    "\n",
    "According to null hypothesis this is one tail test;\n",
    "At 95 % significance level it will follow one  tail testing $ z_{0.05} $=1.645    <br>    \n",
    "$z_{test}$ > $z_{0.05}$ <br>\n",
    " \n",
    "**Result** :- Hence,we Accepted null hypothesis\n",
    "\n",
    "\n"
   ]
  },
  {
   "cell_type": "code",
   "execution_count": 17,
   "metadata": {},
   "outputs": [
    {
     "name": "stdout",
     "output_type": "stream",
     "text": [
      "Z_score is 3.303749523611152\n",
      "Critical region is 1.6448536269514729\n"
     ]
    }
   ],
   "source": [
    "n1 = 300 \n",
    "x1 = 120 \n",
    "𝑝1 = 0.40  \n",
    "n2 = 700 \n",
    "x2 = 140 \n",
    "𝑝2= 0.20\n",
    "p=(x1+x2)/(n1+n2)\n",
    "\n",
    "n=(1/n1)+(1/n2)\n",
    "p_1=p*(1-p)\n",
    "Z=(p1-p2-0.1)/((p_1*n)**0.5)\n",
    "print(f\"Z_score is {Z}\")\n",
    "print(f\"Critical region is {-norm.ppf(0.05)}\")"
   ]
  },
  {
   "cell_type": "markdown",
   "metadata": {},
   "source": [
    "####  Hence,we rejected null hypothesis at alpha=5%"
   ]
  },
  {
   "cell_type": "markdown",
   "metadata": {},
   "source": [
    "### Problem Statement 17 :-\n",
    "\n",
    "A die is thrown 132 times with the following results: Number turned up: 1, 2, 3, 4, 5, 6 Frequency: 16, 20, 25, 14, 29, 28 Is the die unbiased? Consider the degrees of freedom as 𝑝 −1 .\n",
    "\n",
    "\n",
    "| Result       | 1  | 2  | 3  | 4  | 5  | 6  |\n",
    "|--------------|:--:|:--:|:--:|:--:|:--:|:---|\n",
    "|observed freq | 16 | 20 | 25 | 24 | 29 | 28 |\n",
    "|expected freq | 22 | 22 | 22 | 22 | 22 | 22 |  \n",
    "\n",
    "\n",
    "\n",
    "$H_{0}$= die is baised          <br>\n",
    "$H_{1}$=die is not biased       <br>\n",
    "\n",
    "$ X^2  $ = $\\frac {(16-22)^2}{22} + \\frac {(20-22)^2}{22} + \\frac {(25-22)^2}{22} + \\frac {(24-22)^2}{22} + \\frac {(29-22)^2}{22} + \\frac {(28-22)^2}{22}$  = 8.901 <br>\n",
    "\n",
    "at df 6-1=5 we will have chi squared value as $ x^2_{0.05}$ = 11.070    <br>\n",
    "\n",
    "$ X^2_{test} < X^2_{0.05} $    <br>\n",
    "\n",
    "**Result** :- Die is baised( Accept Null Hypothesis)\n",
    "\n"
   ]
  },
  {
   "cell_type": "code",
   "execution_count": 18,
   "metadata": {},
   "outputs": [
    {
     "name": "stdout",
     "output_type": "stream",
     "text": [
      "Chi square value is 9.0 and p-value is 0.1090641579497725\n",
      "Dias is unbiased.\n"
     ]
    }
   ],
   "source": [
    "f_obs= [16, 20, 25, 14, 29, 28]\n",
    "f_exp= [22,22,22,22,22,22]\n",
    "result=stats.chisquare(f_obs,f_exp)\n",
    "print(f\"Chi square value is {result[0]} and p-value is {result[1]}\")\n",
    "print('Dias is unbiased.')"
   ]
  },
  {
   "cell_type": "code",
   "execution_count": null,
   "metadata": {},
   "outputs": [],
   "source": []
  },
  {
   "cell_type": "markdown",
   "metadata": {},
   "source": [
    "### Problem Statement 18 :-\n",
    "\n",
    "In a certain town, there are about one million eligible voters. A simple random sample of 10,000 eligible voters was chosen to study the relationship between gender and participation in the last election. The results are summarized in the following 2X2 (read two by two) contingency table: We would want to check whether being a man or a woman (columns) is independent of having voted in the last election (rows). In other words, is “gender and voting independent”?\n",
    " \n",
    "| observed value|      Men      |  Women |  Total   |\n",
    "|---------------|:-------------:|:------:|:---------|\n",
    "| voted         |  2792         | 3591   |  6383    |\n",
    "| Not Voted     |  1486         | 2131   |  3617    |  \n",
    "| Total         | 4278          | 5722   |          |    <br>\n",
    "\n",
    "Now we will calculate table for expected value ;    <br>\n",
    "formulation;    <br>\n",
    "\n",
    "for voted men =$\\frac{(total number of voted and non voted men) * (Toatl number of voted candidate)}{Given population sample} $      <br>\n",
    "for non-voted men =$\\frac{(total number of non voted and non voted men) * (Toatl number of non-voted candidate)}{Given population sample} $      <br>\n",
    "\n",
    "for voted women =$\\frac{(total number of voted and non voted women) * (Toatl number of voted candidate)}{Given population sample} $      <br>\n",
    "\n",
    "for non-voted women =$\\frac{(total number of voted and non voted women) * (Toatl number of non-voted candidate)}{Given population sample} $      <br>\n",
    "\n",
    "Calculation:  <br>\n",
    "for voted men =$\\frac {(4278)*(6383)}{10000} $ = 2731 <br>\n",
    "for non-voted men =$\\frac {(4278)*(3617)}{10000} $=1547 <br>\n",
    "for voted women =$\\frac {(5722)*(6383)}{10000} $= 3652   <br>\n",
    "for non-voted women =$\\frac {(5721)*(3617)}{10000} $=2070       <br>\n",
    "    \n",
    "| Expected Value|      Men      |  Women |\n",
    "|---------------|:-------------:|:------:|\n",
    "| voted         |  2731         | 3657   |  \n",
    "| Not Voted     |  1547         | 2070   |      <br>\n",
    "\n",
    "\n",
    "\n",
    "| observed value|      Men      |  Women |\n",
    "|---------------|:-------------:|:------:|\n",
    "| voted         |  2792         | 3591   |  \n",
    "| Not Voted     |  1486         | 2131   |  <br>\n",
    "                                                \n",
    "                  \n",
    "$ X^2  $ = $\\sum \\frac {(observed-expected)^2}{Expected} $   <br>\n",
    "\n",
    "                                                \n",
    "                  \n",
    "$ X^2  $ = $\\frac {(2792-2731)^2}{2731} + \\frac {(1486-1547)^2}{1547} + \\frac {(3591-3652)^2}{3652} + \\frac {(2131-2070)^2}{2070}$  =  6.6 <br>\n",
    "\n",
    "d.f=$(row number-1) * (column number -1)  = (2-1)*(2-1) = 1  $    <br>\n",
    "\n",
    "At 95 % of  significance value at a degree of  freedom of 1 value of $ X^2 $ = 3.84 <br>\n",
    " $ x^2_{test} > X^2_{0.05} $ <br>  \n",
    " \n",
    "Hence it will reject null hypothesis   ,br>\n",
    "\n",
    "**Result** :- gender and voting both are independent\n",
    "   \n",
    "   \n",
    "   \n",
    "\n",
    "\n",
    "\n",
    "\n",
    "\n",
    " "
   ]
  },
  {
   "cell_type": "code",
   "execution_count": 19,
   "metadata": {},
   "outputs": [
    {
     "name": "stdout",
     "output_type": "stream",
     "text": [
      "Chi Square value is 6.660455899328067\n",
      "Critical region with alpha=0.05 is 3.84\n",
      "We reject null hypothesis and the result can say as gender and voting both are independent\n"
     ]
    }
   ],
   "source": [
    "observed_voted_men=2792\n",
    "observed_voted_women=3591\n",
    "observed_not_voted_men=1486\n",
    "observed_not_voted_women=2131\n",
    "total_voted=2792+3591\n",
    "total_not_voted=1486+2131\n",
    "total_men=2792+1486\n",
    "total_women=3591+2131\n",
    "expected_voted_men=(total_voted*total_men)/10000\n",
    "expected_voted_women=(total_voted*total_women)/10000\n",
    "expected_not_voted_men=(total_not_voted*total_men)/10000\n",
    "expected_not_voted_women=(total_not_voted*total_women)/10000\n",
    "chisquare1=(((observed_voted_women-expected_voted_women)**2)/expected_voted_women)\n",
    "chisquare2=(((observed_voted_men-expected_voted_men)**2)/expected_voted_men)\n",
    "chisquare3=(((observed_not_voted_men-expected_not_voted_men)**2)/expected_not_voted_men)\n",
    "chisquare4=(((observed_not_voted_women-expected_not_voted_women)**2)/expected_not_voted_women)\n",
    "chisquare=chisquare1+chisquare2+chisquare3+chisquare4\n",
    "print(f\"Chi Square value is {chisquare}\")\n",
    "print(f\"Critical region with alpha=0.05 is 3.84\")\n",
    "print(\"We reject null hypothesis and the result can say as gender and voting both are independent\")"
   ]
  },
  {
   "cell_type": "code",
   "execution_count": null,
   "metadata": {},
   "outputs": [],
   "source": []
  },
  {
   "cell_type": "markdown",
   "metadata": {},
   "source": [
    "### Problem Statement 19 :-\n",
    "\n",
    "A sample of 100 voters are asked which of four candidates they would vote for in anelection. The number supporting each candidate is given below: Do the data suggest that all candidates are equally popular?\n",
    "\n",
    "[Chi-Square = 14.96,with 3 df, 𝑝 0.05 ] ?\n",
    "\n",
    "\n",
    "| Result       | Higgins  | Reardon  | white  | charlton  |\n",
    "|--------------|:--------:|:--------:|:------:|:--------- |\n",
    "|observed freq | 41 | 19 | 24 | 16\n",
    "|expected freq | 25| 25| 25| 25|  <br>\n",
    "\n",
    "$H_{0}$= All candidates are equally popular     <br>\n",
    "$H_{1}$=All candidates are not equally popular   <br>\n",
    "\n",
    "$ X^2  $ = $\\frac {(41-25)^2}{25} +  \\frac {(19-25)^2}{25} + \\frac {(24-25)^2}{25}  + \\frac {(16-25)} {25} $ = 14.96 <br>\n",
    "\n",
    "at df 4-1=3 we will have chi squared value as $ x^2_{0.05}$ = 7.815 <br>\n",
    "\n",
    "$ X^2_{test} > X^2_{0.05} $    <br>\n",
    "\n",
    "**Result** :- reject null hypothesis (Not All Candidates are equally popular)\n",
    "\n",
    "\n",
    "\n",
    "\n",
    "\n",
    "\n"
   ]
  },
  {
   "cell_type": "code",
   "execution_count": 20,
   "metadata": {},
   "outputs": [
    {
     "name": "stdout",
     "output_type": "stream",
     "text": [
      "Chi Square value is 14.959999999999999\n",
      "Critical region with 3df and alpha=0.05 is 7.82\n",
      "We reject null hypothesis. All candidates are not equally popular\n"
     ]
    }
   ],
   "source": [
    "#print(np.mean([41,19,24,16]))\n",
    "obs=[41,19,24,16]\n",
    "exp=[25,25,25,25]\n",
    "result=stats.chisquare(obs,exp)\n",
    "print(f\"Chi Square value is {result[0]}\")\n",
    "print(f\"Critical region with 3df and alpha=0.05 is 7.82\")\n",
    "print(\"We reject null hypothesis. All candidates are not equally popular\")"
   ]
  },
  {
   "cell_type": "code",
   "execution_count": null,
   "metadata": {},
   "outputs": [],
   "source": []
  },
  {
   "cell_type": "markdown",
   "metadata": {},
   "source": [
    "### Problem Statement 20 :-\n",
    "\n",
    "Children of three ages are asked to indicate their preference for three photographs of adults. Do the data suggest that there is a significant relationship between age and photograph preference? What is wrong with this study? [Chi-Square = 29.6, with 4 df: 𝑝 < 0.05] ?\n",
    "                       \n",
    "|Observed    | Data     |  A  |  B  |  C  |  Total  |\n",
    "|------------|:--------:|:---:|:---:|:---:|:--------|                  \n",
    "|age of child|5-6 years | 18  | 22  |  20 |   60    |\n",
    "|            |7-8 years |  2  | 28  |  40 |   70    |\n",
    "|            |9-10 years| 20  | 10  |  40 |   70    |\n",
    "|            |    Total | 40  | 60  | 100 |         |     <br>\n",
    "\n",
    "\n",
    "\n",
    "\n",
    "|Expected    | Data     |  A  |  B  |  C  | \n",
    "|------------|:--------:|:---:|:---:|:---:|\n",
    "|age of child|5-6 years | 12  | 18  |  30 | \n",
    "|            |7-8 years | 14  | 21  |  35 |\n",
    "|            |9-10 years| 14  | 21  |  35 |    <br>\n",
    "\n",
    "\n",
    "Calculations for Expected Values ;     <br>\n",
    "\n",
    "\n",
    "Expected  value =$\\frac {(row_{total})* (Column _{total}))}{(total value )} $\n",
    "\n",
    "$x^2_{test} $ = $\\frac {(18-12)^2}{12} + \\frac {(2-14)^2}{14} + \\frac {(20-14)^2}{14} + \\frac {(22-18)^2}{18} + \\frac {(28-21)^2}{21} + \\frac {(10-21)^2}{21} + \\frac {(20-30)^2}{30} + \\frac {(40-35)^2}{35} + \\frac {(40-35)^2}{35} $ = 29.60   <br>\n",
    "\n",
    "\n",
    "degree of freedom =(3-1)*(3-1) =2*2 = 4  <br>\n",
    "at $\\hat p $ <0.05 ~= 0.001 hence; <br>\n",
    "$x^2_{0.001} $ at df=4 will be := 18.47  <br>\n",
    "\n",
    "$x^2_{test}  >  x^2_{0.001} $    <br>\n",
    "  \n",
    "**Result** :- Rejects null Hypothesis (There is no significance relationship between age and photograph preference)"
   ]
  },
  {
   "cell_type": "code",
   "execution_count": 21,
   "metadata": {},
   "outputs": [
    {
     "name": "stdout",
     "output_type": "stream",
     "text": [
      "Chi Square value is 29.603174603174608\n",
      "Critical region with 4df and alpha=0.001 is 18.47\n",
      "We reject null hypothesis.There is significant relationship between age and photograph preference\n"
     ]
    }
   ],
   "source": [
    "obs=([[18,22,20],[2,28,40],[20,10,40]])\n",
    "result=chi2_contingency(obs)\n",
    "print(f\"Chi Square value is {result[0]}\")\n",
    "print(f\"Critical region with 4df and alpha=0.001 is 18.47\")\n",
    "print(\"We reject null hypothesis.There is significant relationship between age and photograph preference\")"
   ]
  },
  {
   "cell_type": "code",
   "execution_count": null,
   "metadata": {},
   "outputs": [],
   "source": []
  },
  {
   "cell_type": "markdown",
   "metadata": {},
   "source": [
    "### Problem Statement 21 :- \n",
    "\n",
    "A study of conformity using the Asch paradigm involved two conditions: one where one confederate supported the true judgement and another where no confederate gave the correct response. Is there a significant difference between the \"support\" and \"no support\" conditions in thefrequency with which individuals are likely to conform? [Chi-Square = 19.87, with 1 df: 𝑝 < 0.05 ?\n",
    "\n",
    "| observed value|    Support    |  No Support  | Total  |\n",
    "|---------------|:-------------:|:------------:|:-------|\n",
    "| Confirm       |     18        |     40       |  58    | \n",
    "| Not Confirm   |     32        |     10       |  42    |  \n",
    "|   Total       |     50        |     50       |        |  <br>  \n",
    "\n",
    "\n",
    "| Expected value|    Support    |  No Support  | Total  |\n",
    "|---------------|:-------------:|:------------:|:-------|\n",
    "| Confirm       |     29        |     29       |  58    | \n",
    "| Not Confirm   |     21        |     21       |  42    |    <br> \n",
    "\n",
    "\n",
    "Calculation:   <br>\n",
    "\n",
    "$x^2_{test} $ = $\\frac {(18-29)^2}{29} + \\frac {(32-21)^2}{21} + \\frac {(40-29)^2}{29} + \\frac {(10-21)^2}{21} $ = 18.10 <br>\n",
    "\n",
    "\n",
    "degree of freedom =(2-1)*(2-1)=1     <br>\n",
    "\n",
    "$ X^2_{0.001} $ at df =1 will be = 10.83   <br>\n",
    "\n",
    "\n",
    "$x^2_{test}  >   X^2_{0.001} $    <br>\n",
    " \n",
    "**Result**: Rejects null Hypothesis( there is NO  significant difference between the \"support\" and \"no support\" conditions in the\n",
    "frequency with which individare likely to conform)\n",
    "\n",
    "\n"
   ]
  },
  {
   "cell_type": "code",
   "execution_count": 22,
   "metadata": {},
   "outputs": [
    {
     "name": "stdout",
     "output_type": "stream",
     "text": [
      "Chi Square value is 18.10344827586207\n",
      "Critical region with 1df and alpha=0.001 is 10.83\n",
      "We reject null hypoythesis.So,there is significant difference between the 'support' and 'no support' conditions in the frequency with which individuals are likely to conform\n"
     ]
    }
   ],
   "source": [
    "obs=np.array([[18,40],[32,10]])\n",
    "result=chi2_contingency(obs)\n",
    "print(f\"Chi Square value is {result[0]}\")\n",
    "print(f\"Critical region with 1df and alpha=0.001 is 10.83\")\n",
    "print(\"We reject null hypoythesis.So,there is significant difference between the 'support' and 'no support' conditions in the frequency with which individuals are likely to conform\")"
   ]
  },
  {
   "cell_type": "code",
   "execution_count": null,
   "metadata": {},
   "outputs": [],
   "source": []
  },
  {
   "cell_type": "markdown",
   "metadata": {},
   "source": [
    "### Problem Statement 22 :- \n",
    "\n",
    "We want to test whether short people differ with respect to their leadership qualities (Genghis Khan, Adolf Hitler and Napoleon were all stature-deprived, and how many midget MP's are there?) The following table shows the frequencies with which 43 short people and 52 tall people were categorized as \"leaders\", \"followers\" or as \"unclassifiable\". Is there a relationship between height and leadership qualities? [Chi-Square = 10.71, with 2 df: 𝑝 < 0.01]\n",
    "\n",
    "|Observed               |  Short   |  Tall   |  Total  |\n",
    "|-----------------------|:--------:|:-------:|:--------|                  \n",
    "|     Leader            |    12    |    32   |    44   |\n",
    "|     Follower          |    22    |    14   |    36   |\n",
    "|     Uncalssifiable    |     9    |     6   |    15   |\n",
    "|     Total             |    43    |    52   |    95   | |<br>\n",
    "\n",
    "\n",
    "\n",
    "|Expected               |  Short   |  Tall   |  \n",
    "|-----------------------|:--------:|:-------:|\n",
    "|     Leader            |    20    |    24   |   \n",
    "|     Follower          |    16    |    20   |  \n",
    "|     Uncalssifiable    |     7    |     8   |<br>\n",
    "\n",
    "$H_{0} $=  Relationship between height and leadership quality <br>\n",
    "\n",
    "$H_{1} $ = No  Relationship between height and leadership quality   <br>\n",
    "\n",
    "$x^2_{test} $ = $\\frac {(12-20)^2}{20} + \\frac {(22-16)^2}{16} + \\frac {(9-7)^2}{7} + \\frac {(32-24)^2}{24} + \\frac {(14-20)^2}{20} + \\frac {(15-8)^2}{8} $  =  16.65  <br>\n",
    "\n",
    "degree of freedom =(3-1)*(2-1)= 2    <br>\n",
    "\n",
    "$ X^2_{0.001} $ at df =2 will be = 13.82   <br>\n",
    "\n",
    "\n",
    "$x^2_{test}  >   X^2_{0.001} $    <br>\n",
    "\n",
    "**Result**:- Reject null hypothesis (No  Relationship between height and leadership quality)\n",
    " \n",
    "\n",
    "\n"
   ]
  },
  {
   "cell_type": "code",
   "execution_count": 23,
   "metadata": {},
   "outputs": [
    {
     "name": "stdout",
     "output_type": "stream",
     "text": [
      "Chi Square value is 18.10344827586207\n",
      "Critical region with 1df and alpha=0.001 is 10.83\n",
      "We reject null hypoythesis.So,there is significant difference between the 'support' and 'no support' conditions in the frequency with which individuals are likely to conform\n"
     ]
    }
   ],
   "source": [
    "obs=np.array([[18,40],[32,10]])\n",
    "result=chi2_contingency(obs)\n",
    "print(f\"Chi Square value is {result[0]}\")\n",
    "print(f\"Critical region with 1df and alpha=0.001 is 10.83\")\n",
    "print(\"We reject null hypoythesis.So,there is significant difference between the 'support' and 'no support' conditions in the frequency with which individuals are likely to conform\")"
   ]
  },
  {
   "cell_type": "code",
   "execution_count": null,
   "metadata": {},
   "outputs": [],
   "source": []
  },
  {
   "cell_type": "markdown",
   "metadata": {},
   "source": [
    "### Problem Statement 23 :-\n",
    "\n",
    "Each respondent in the Current Population Survey of March 1993 was classified as employed, unemployed, or outside the labor force. The results for men in California age 35-44 can be cross-tabulated by marital status, as follows: table is given below; Men of different marital status seem to have different distributions of labor force status. Or is this just chance variation? (you may assume the table results from a simple random sample.)\n",
    "\n",
    "|Observed               |  Married   |Widow,Divorced or seperated   | Not married  |   Total  |\n",
    "|-----------------------|:----------:|:----------------------------:|:------------:|:---------|                  \n",
    "|     Employed          |   679      |      103                     |    114       |   896    |   \n",
    "|     unemployed        |    63      |       10                     |     20       |    93    |\n",
    "|Not in labour force    |    42      |       18                     |     25       |    85    |\n",
    "|     Total             |   784      |      131                     |    159       |   1074   |<br>\n",
    "\n",
    "\n",
    "|Expected               |  Married   |Widow,Divorced or seperated   | Not married  | \n",
    "|-----------------------|:----------:|:----------------------------:|:------------|\n",
    "|     Employed          |   654      |      109                     |    133       |   \n",
    "|     unemployed        |    68      |       11                     |     14       | \n",
    "|Not in labour force    |    62      |       10                     |     13       |<br>\n",
    "\n",
    "Calculations:\n",
    "\n",
    "$x^2_{test} $ = $\\frac {(679-654)^2}{654} + \\frac {(263-68)^2}{68} + \\frac {(42-62)^2}{62}+\\frac {(103-109)^2}{109}+\\frac{(10-11)^2}{11} +\\ frac {(18-10)^2}{10} $ = 31.61 <br>\n",
    "\n",
    "$ X^2_{0.05} $ at degree of freedom =(3-1)(3-1)=4 will be = 9.488   <br>\n",
    "\n",
    "$ x^2_{test} $ > $ X^2_{0.05} $   <br>\n",
    "\n",
    "**Result** :- Rejects null hypothesis (Men of different marital  affair should have same distribution)\n",
    "\n",
    "\n"
   ]
  },
  {
   "cell_type": "code",
   "execution_count": 24,
   "metadata": {},
   "outputs": [
    {
     "name": "stdout",
     "output_type": "stream",
     "text": [
      "Chi Square value is 31.61310319407798\n",
      "Critical region with 4df and alpha=0.001 is 18.47\n",
      "We reject null hypothesis at alpha=0.001 .there is relationship between martial status and employment status\n"
     ]
    }
   ],
   "source": [
    "obs = np.array([[679,103,114], [63,10,20],[42,18,25]])\n",
    "result=chi2_contingency(obs)\n",
    "print(f\"Chi Square value is {result[0]}\")\n",
    "print(f\"Critical region with 4df and alpha=0.001 is 18.47\")\n",
    "print(\"We reject null hypothesis at alpha=0.001 .there is relationship between martial status and employment status\")"
   ]
  },
  {
   "cell_type": "code",
   "execution_count": null,
   "metadata": {},
   "outputs": [],
   "source": []
  },
  {
   "cell_type": "markdown",
   "metadata": {},
   "source": [
    "## There are three main types of t-test:\n",
    "An Independent Samples t-test compares the means for two groups.\n",
    "\n",
    "A Paired sample t-test compares means from the same group at different times (say, one year apart).\n",
    "\n",
    "A One sample t-test tests the mean of a single group against a known mean."
   ]
  }
 ],
 "metadata": {
  "kernelspec": {
   "display_name": "Python 3",
   "language": "python",
   "name": "python3"
  },
  "language_info": {
   "codemirror_mode": {
    "name": "ipython",
    "version": 3
   },
   "file_extension": ".py",
   "mimetype": "text/x-python",
   "name": "python",
   "nbconvert_exporter": "python",
   "pygments_lexer": "ipython3",
   "version": "3.8.5"
  }
 },
 "nbformat": 4,
 "nbformat_minor": 4
}
